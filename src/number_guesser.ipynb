{
 "cells": [
  {
   "cell_type": "markdown",
   "metadata": {
    "vscode": {
     "languageId": "plaintext"
    }
   },
   "source": [
    "import random"
   ]
  },
  {
   "cell_type": "code",
   "execution_count": 1,
   "metadata": {},
   "outputs": [],
   "source": [
    "import random"
   ]
  },
  {
   "cell_type": "code",
   "execution_count": 2,
   "metadata": {},
   "outputs": [
    {
     "data": {
      "text/plain": [
       "39"
      ]
     },
     "execution_count": 2,
     "metadata": {},
     "output_type": "execute_result"
    }
   ],
   "source": [
    "rand_num = random.randint(1,100)\n",
    "rand_num"
   ]
  },
  {
   "cell_type": "code",
   "execution_count": 5,
   "metadata": {},
   "outputs": [
    {
     "name": "stdout",
     "output_type": "stream",
     "text": [
      "your guess is too high\n",
      "your guess is too low\n",
      "your guess is too low\n",
      "your guess is too low\n",
      "your guess is correct!\n",
      "Your score is: 60\n"
     ]
    }
   ],
   "source": [
    "score = 100\n",
    "\n",
    "while True:\n",
    "    user_guess = input(\"Guess a number between 1 and 100\")\n",
    "    if user_guess == \"q\":\n",
    "        print(\"Thank you for playing, Goodbye!\")\n",
    "        break\n",
    "    elif not user_guess.isdigit():\n",
    "        print(\"Invalid input\")\n",
    "        continue\n",
    "    else:\n",
    "        user_guess = int(user_guess)\n",
    "    if user_guess > 100 or user_guess < 1:\n",
    "        print(\"Invalid input\")\n",
    "        continue\n",
    "\n",
    "    if rand_num > user_guess:\n",
    "        print(\"your guess is too low\")\n",
    "    elif rand_num < user_guess:\n",
    "        print(\"your guess is too high\")\n",
    "    else:\n",
    "        print(\"your guess is correct!\")\n",
    "        print(\"Your score is:\" , score)\n",
    "        break\n",
    "    score -= 10\n",
    "    score = max(score , 0)\n",
    "\n"
   ]
  },
  {
   "cell_type": "code",
   "execution_count": null,
   "metadata": {},
   "outputs": [],
   "source": []
  }
 ],
 "metadata": {
  "kernelspec": {
   "display_name": "jupyterlab_environment",
   "language": "python",
   "name": "python3"
  },
  "language_info": {
   "codemirror_mode": {
    "name": "ipython",
    "version": 3
   },
   "file_extension": ".py",
   "mimetype": "text/x-python",
   "name": "python",
   "nbconvert_exporter": "python",
   "pygments_lexer": "ipython3",
   "version": "3.10.15"
  }
 },
 "nbformat": 4,
 "nbformat_minor": 2
}
